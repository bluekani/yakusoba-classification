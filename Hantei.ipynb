{
  "nbformat": 4,
  "nbformat_minor": 0,
  "metadata": {
    "colab": {
      "name": "Hantei.ipynb",
      "provenance": []
    },
    "kernelspec": {
      "name": "python3",
      "display_name": "Python 3"
    }
  },
  "cells": [
    {
      "cell_type": "markdown",
      "metadata": {
        "id": "8NgGVnMj-Y3M",
        "colab_type": "text"
      },
      "source": [
        "GoogleDriveに接続"
      ]
    },
    {
      "cell_type": "code",
      "metadata": {
        "id": "3_RFaF5ryCDO",
        "colab_type": "code",
        "colab": {}
      },
      "source": [
        "from google.colab import drive\n",
        "drive.mount('/content/drive')"
      ],
      "execution_count": 0,
      "outputs": []
    },
    {
      "cell_type": "markdown",
      "metadata": {
        "id": "b2jxqTw3-iOi",
        "colab_type": "text"
      },
      "source": [
        "ライブラリの読み込み"
      ]
    },
    {
      "cell_type": "code",
      "metadata": {
        "id": "gh_GX1k-y42p",
        "colab_type": "code",
        "colab": {}
      },
      "source": [
        "from keras.models import Sequential\n",
        "from keras.layers import Dense, Conv2D, BatchNormalization, Activation, Input, Flatten, MaxPooling2D, Dropout, GlobalAveragePooling2D\n",
        "from keras.optimizers import Adam, SGD\n",
        "from keras.preprocessing.image import img_to_array, load_img, ImageDataGenerator\n",
        "from keras.utils.np_utils import to_categorical\n",
        "import numpy as np\n",
        "import os"
      ],
      "execution_count": 0,
      "outputs": []
    },
    {
      "cell_type": "markdown",
      "metadata": {
        "id": "vBleGwlX-oGP",
        "colab_type": "text"
      },
      "source": [
        "画像の読み込み"
      ]
    },
    {
      "cell_type": "code",
      "metadata": {
        "id": "kgohWVZty62_",
        "colab_type": "code",
        "colab": {}
      },
      "source": [
        "image_list = []\n",
        "label_list = []\n",
        "input_size = 64\n",
        "\n",
        "for dir in os.listdir('drive/My Drive/Colab Notebooks/image/train'):\n",
        "    dir1 = \"drive/My Drive/Colab Notebooks/image/train/\" + dir \n",
        "    label = 0\n",
        "\n",
        "    if dir == \"Gotsu_shio\" :        #マルちゃん ごつ盛り 塩焼そば\n",
        "        label = 0\n",
        "    elif dir == \"Gotsu_source\" :    #マルちゃん ごつ盛り ソース焼そば\n",
        "        label = 1\n",
        "    elif dir == \"Bubuka\" :          #明星 ぶぶか 油そば\n",
        "        label = 2\n",
        "    elif dir == \"Ippei\" :           #明星 一平ちゃん夜店の焼そば\n",
        "        label = 3\n",
        "    elif dir == \"UFO\" :             #日清 焼そばU.F.O.\n",
        "        label = 4\n",
        "\n",
        "    for file in os.listdir(dir1):\n",
        "        label_list.append(label)\n",
        "        filepath = dir1 + \"/\" + file\n",
        "        img = img_to_array(load_img(filepath, target_size=(input_size,input_size)))\n",
        "        image_list.append(img)\n",
        "\n",
        "#numpy配列に変換\n",
        "image_list = np.array(image_list)\n",
        "print(image_list.shape)\n",
        "\n",
        "#ラベルをOne-hot表現に変換\n",
        "Y = to_categorical(label_list)"
      ],
      "execution_count": 0,
      "outputs": []
    },
    {
      "cell_type": "markdown",
      "metadata": {
        "id": "8JVj65nuARZL",
        "colab_type": "text"
      },
      "source": [
        "ネットワークの構築，学習"
      ]
    },
    {
      "cell_type": "code",
      "metadata": {
        "id": "DtWtfbPmzHXR",
        "colab_type": "code",
        "colab": {}
      },
      "source": [
        "# モデルを生成してニューラルネットを構築\n",
        "model = Sequential()\n",
        "\n",
        "model.add(Conv2D(32,(3,3), padding = \"same\", input_shape =(input_size, input_size, 3)))\n",
        "model.add(BatchNormalization())\n",
        "model.add(Activation(\"relu\"))\n",
        "\n",
        "model.add(Conv2D(32,(3,3), padding = \"same\"))\n",
        "model.add(BatchNormalization())\n",
        "model.add(Activation(\"relu\"))\n",
        "\n",
        "model.add(MaxPooling2D(pool_size=(2,2)))\n",
        "model.add(Dropout(.25))\n",
        "\n",
        "model.add(Conv2D(64,(3,3), padding = \"same\"))\n",
        "model.add(BatchNormalization())\n",
        "model.add(Activation(\"relu\"))\n",
        "\n",
        "model.add(Conv2D(64,(3,3), padding = \"same\"))\n",
        "model.add(BatchNormalization())\n",
        "model.add(Activation(\"relu\"))\n",
        "\n",
        "\n",
        "model.add(MaxPooling2D(pool_size=(2,2)))\n",
        "model.add(Dropout(.25))\n",
        "\n",
        "model.add(Conv2D(128,(3,3), padding = \"same\"))\n",
        "model.add(BatchNormalization())\n",
        "model.add(Activation(\"relu\"))\n",
        "\n",
        "model.add(Conv2D(128,(3,3), padding = \"same\"))\n",
        "model.add(BatchNormalization())\n",
        "model.add(Activation(\"relu\"))\n",
        "\n",
        "\n",
        "model.add(MaxPooling2D(pool_size=(2,2)))\n",
        "model.add(Dropout(.4))\n",
        "\n",
        "\n",
        "model.add(Flatten())\n",
        "model.add(Dense(512))\n",
        "model.add(Activation(\"relu\"))\n",
        "model.add(Dropout(.50))\n",
        "\n",
        "model.add(Dense(5))\n",
        "model.add(Activation(\"softmax\"))\n",
        "\n",
        "opt = SGD(lr=1e-3, decay=1e-6, momentum=0.9, nesterov=True)\n",
        "\n",
        "#モデルのコンパイル\n",
        "model.compile(loss=\"categorical_crossentropy\", optimizer=opt, metrics=[\"accuracy\"])\n",
        "model.summary()\n",
        "#学習を実行，10%はテストに使用\n",
        "model.fit(image_list, Y, epochs=20, batch_size=100, validation_split=0.1, shuffle = True)"
      ],
      "execution_count": 0,
      "outputs": []
    },
    {
      "cell_type": "markdown",
      "metadata": {
        "id": "UMTjiZfZ_9XA",
        "colab_type": "text"
      },
      "source": [
        "推論"
      ]
    },
    {
      "cell_type": "code",
      "metadata": {
        "id": "2uY40SfvzQ9m",
        "colab_type": "code",
        "colab": {}
      },
      "source": [
        "#推論\n",
        "total = 0.\n",
        "correct = 0.\n",
        "\n",
        "for dir in os.listdir(\"drive/My Drive/Colab Notebooks/image/test\"):\n",
        "\n",
        "    dir1 = \"drive/My Drive/Colab Notebooks/image/test/\" + dir \n",
        "    label = 0\n",
        "\n",
        "    if dir == \"Gotsu_shio\":\n",
        "        label = 0\n",
        "    elif dir == \"Gotsu_source\":\n",
        "        label = 1\n",
        "    elif dir == \"Bubuka\":\n",
        "        label = 2\n",
        "    elif dir == \"Ippei\":\n",
        "        label = 3\n",
        "    elif dir == \"UFO\":\n",
        "        label = 4\n",
        "        \n",
        "    for file in os.listdir(dir1):\n",
        "        label_list.append(label)\n",
        "        filepath = dir1 + \"/\" + file\n",
        "        print(filepath)\n",
        "        img = []\n",
        "        img.append(img_to_array(load_img(filepath, target_size=(input_size,input_size))))\n",
        "        result = model.predict_classes(np.array(img))\n",
        "        print(\"label:\", label, \"result:\", result[0])\n",
        "\n",
        "        total += 1.\n",
        "\n",
        "        if label == result[0]:\n",
        "            correct += 1.\n",
        "\n",
        "print(\"正解率: \", correct / total * 100, \"%\")\n",
        "\n",
        "model.save(\"drive/My Drive/Colab Notebooks/model.h5f\", overwrite=True)"
      ],
      "execution_count": 0,
      "outputs": []
    }
  ]
}
